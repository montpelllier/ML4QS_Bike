{
 "cells": [
  {
   "cell_type": "code",
   "execution_count": 1,
   "id": "46aee271",
   "metadata": {},
   "outputs": [],
   "source": [
    "import numpy as np\n",
    "import pandas as pd\n",
    "\n",
    "from pathlib import Path\n",
    "\n",
    "from sklearn.model_selection import train_test_split\n",
    "from sklearn.preprocessing import LabelEncoder\n",
    "from keras.utils import to_categorical\n",
    "from sklearn.utils import resample\n",
    "from model import LSTMModel\n",
    "from sklearn.metrics import accuracy_score, classification_report\n",
    "from sklearn.metrics import accuracy_score, precision_recall_fscore_support\n",
    "\n",
    "from imblearn.over_sampling import SMOTE\n",
    "from imblearn.under_sampling import RandomUnderSampler\n",
    "from imblearn.pipeline import make_pipeline\n",
    "from collections import Counter\n",
    "import numpy as np"
   ]
  },
  {
   "cell_type": "code",
   "execution_count": 2,
   "id": "93ab8686",
   "metadata": {},
   "outputs": [],
   "source": [
    "# Define paths and filenames\n",
    "DATA_PATH = Path('../results/')\n",
    "DATASET_FNAME = 'dataset1_result_feature.csv'"
   ]
  },
  {
   "cell_type": "code",
   "execution_count": 3,
   "id": "43111ee4",
   "metadata": {},
   "outputs": [],
   "source": [
    "# Load the dataset\n",
    "try:\n",
    "    dataset = pd.read_csv(DATA_PATH / DATASET_FNAME, index_col=0)\n",
    "except IOError as e:\n",
    "    print('File not found, try to run previous crowdsignals scripts first!')\n",
    "    raise e"
   ]
  },
  {
   "cell_type": "code",
   "execution_count": 4,
   "id": "8f3fe8d1",
   "metadata": {},
   "outputs": [],
   "source": [
    "# Separate features and target variables\n",
    "X = dataset.drop(\n",
    "    columns=['labelnormal', 'labelturnright', 'labelturnleft', 'labelbrake', 'labelstop', 'labelaccelerate'])\n",
    "y = dataset[['labelnormal', 'labelturnright', 'labelturnleft', 'labelbrake', 'labelstop', 'labelaccelerate']].copy()"
   ]
  },
  {
   "cell_type": "code",
   "execution_count": 5,
   "id": "8ab00ac7",
   "metadata": {},
   "outputs": [],
   "source": [
    "# Ensure the dataset is split in chronological order, assuming data is already sorted by time\n",
    "# Commented out original splitting by index to use train_test_split for randomized split\n",
    "# train_size = int(0.7 * len(dataset))  # Use 70% of the data for training\n",
    "# X_train, X_test = X.iloc[:train_size], X.iloc[train_size:]\n",
    "# y_train, y_test = y['label'].iloc[:train_size], y['label'].iloc[train_size:]\n",
    "# print(len(X_train), len(X_test))\n",
    "X_train, X_test, y_train, y_test = train_test_split(X, y, test_size=0.3, random_state=42)"
   ]
  },
  {
   "cell_type": "code",
   "execution_count": 6,
   "id": "9c34ac87",
   "metadata": {},
   "outputs": [],
   "source": [
    "pipeline = make_pipeline(\n",
    "    SMOTE(sampling_strategy='all', random_state=42, k_neighbors=5),  # 调整 SMOTE 的参数\n",
    "    RandomUnderSampler(sampling_strategy='not minority', random_state=42)  # 调整 RandomUnderSampler 的参数\n",
    ")\n",
    "\n",
    "# 运行pipeline进行重采样\n",
    "X_train, y_train = pipeline.fit_resample(X_train, y_train.values)"
   ]
  },
  {
   "cell_type": "code",
   "execution_count": 7,
   "id": "7f58aa52",
   "metadata": {},
   "outputs": [],
   "source": [
    "# Convert DataFrames to numpy arrays\n",
    "X_train = np.array(X_train)\n",
    "X_test = np.array(X_test)\n",
    "\n",
    "# Reshape X_train and X_test for LSTM input\n",
    "X_train = X_train.reshape(X_train.shape[0], 1, X_train.shape[1])\n",
    "X_test = X_test.reshape(X_test.shape[0], 1, X_test.shape[1])"
   ]
  },
  {
   "cell_type": "code",
   "execution_count": 8,
   "id": "529a0693",
   "metadata": {},
   "outputs": [
    {
     "name": "stderr",
     "output_type": "stream",
     "text": [
      "D:\\python\\Lib\\site-packages\\keras\\src\\layers\\rnn\\rnn.py:204: UserWarning: Do not pass an `input_shape`/`input_dim` argument to a layer. When using Sequential models, prefer using an `Input(shape)` object as the first layer in the model instead.\n",
      "  super().__init__(**kwargs)\n"
     ]
    }
   ],
   "source": [
    "# Define the model\n",
    "model = LSTMModel(X_train, y_train)"
   ]
  },
  {
   "cell_type": "code",
   "execution_count": 13,
   "id": "31628787",
   "metadata": {},
   "outputs": [
    {
     "name": "stdout",
     "output_type": "stream",
     "text": [
      "Epoch 1/10\n",
      "\u001b[1m165/165\u001b[0m \u001b[32m━━━━━━━━━━━━━━━━━━━━\u001b[0m\u001b[37m\u001b[0m \u001b[1m0s\u001b[0m 2ms/step - accuracy: 0.9484 - loss: 0.1450\n",
      "Epoch 2/10\n",
      "\u001b[1m165/165\u001b[0m \u001b[32m━━━━━━━━━━━━━━━━━━━━\u001b[0m\u001b[37m\u001b[0m \u001b[1m0s\u001b[0m 2ms/step - accuracy: 0.9515 - loss: 0.1459\n",
      "Epoch 3/10\n",
      "\u001b[1m165/165\u001b[0m \u001b[32m━━━━━━━━━━━━━━━━━━━━\u001b[0m\u001b[37m\u001b[0m \u001b[1m0s\u001b[0m 2ms/step - accuracy: 0.9535 - loss: 0.1321\n",
      "Epoch 4/10\n",
      "\u001b[1m165/165\u001b[0m \u001b[32m━━━━━━━━━━━━━━━━━━━━\u001b[0m\u001b[37m\u001b[0m \u001b[1m0s\u001b[0m 2ms/step - accuracy: 0.9507 - loss: 0.1358\n",
      "Epoch 5/10\n",
      "\u001b[1m165/165\u001b[0m \u001b[32m━━━━━━━━━━━━━━━━━━━━\u001b[0m\u001b[37m\u001b[0m \u001b[1m0s\u001b[0m 2ms/step - accuracy: 0.9517 - loss: 0.1533\n",
      "Epoch 6/10\n",
      "\u001b[1m165/165\u001b[0m \u001b[32m━━━━━━━━━━━━━━━━━━━━\u001b[0m\u001b[37m\u001b[0m \u001b[1m0s\u001b[0m 2ms/step - accuracy: 0.9582 - loss: 0.1260\n",
      "Epoch 7/10\n",
      "\u001b[1m165/165\u001b[0m \u001b[32m━━━━━━━━━━━━━━━━━━━━\u001b[0m\u001b[37m\u001b[0m \u001b[1m0s\u001b[0m 2ms/step - accuracy: 0.9611 - loss: 0.1162\n",
      "Epoch 8/10\n",
      "\u001b[1m165/165\u001b[0m \u001b[32m━━━━━━━━━━━━━━━━━━━━\u001b[0m\u001b[37m\u001b[0m \u001b[1m0s\u001b[0m 2ms/step - accuracy: 0.9640 - loss: 0.1123\n",
      "Epoch 9/10\n",
      "\u001b[1m165/165\u001b[0m \u001b[32m━━━━━━━━━━━━━━━━━━━━\u001b[0m\u001b[37m\u001b[0m \u001b[1m0s\u001b[0m 2ms/step - accuracy: 0.9670 - loss: 0.1022\n",
      "Epoch 10/10\n",
      "\u001b[1m165/165\u001b[0m \u001b[32m━━━━━━━━━━━━━━━━━━━━\u001b[0m\u001b[37m\u001b[0m \u001b[1m0s\u001b[0m 2ms/step - accuracy: 0.9536 - loss: 0.1274\n"
     ]
    }
   ],
   "source": [
    "# Train the model\n",
    "model.train(epochs=10, batch_size=32)"
   ]
  },
  {
   "cell_type": "code",
   "execution_count": 14,
   "id": "2e0b4aaf",
   "metadata": {},
   "outputs": [
    {
     "name": "stdout",
     "output_type": "stream",
     "text": [
      "\u001b[1m15/15\u001b[0m \u001b[32m━━━━━━━━━━━━━━━━━━━━\u001b[0m\u001b[37m\u001b[0m \u001b[1m0s\u001b[0m 1ms/step \n"
     ]
    }
   ],
   "source": [
    "# Use model to predit\n",
    "y_pred = model.predict(X_test)"
   ]
  },
  {
   "cell_type": "code",
   "execution_count": 15,
   "id": "9e0f708a",
   "metadata": {},
   "outputs": [],
   "source": [
    "# Convert multi-label to single label\n",
    "y_pred_labels = np.argmax(y_pred, axis=1)\n",
    "y_test_labels = np.argmax(y_test, axis=1)"
   ]
  },
  {
   "cell_type": "code",
   "execution_count": 16,
   "id": "783a1f7f",
   "metadata": {},
   "outputs": [
    {
     "name": "stdout",
     "output_type": "stream",
     "text": [
      "Model Accuracy with Selected Features and Grid Search: 0.9235807860262009\n",
      "Classification Report:\n",
      "               precision    recall  f1-score   support\n",
      "\n",
      "           0       0.98      0.93      0.95       389\n",
      "           1       0.73      0.85      0.79        13\n",
      "           2       0.76      0.90      0.83        29\n",
      "           3       0.54      0.88      0.67         8\n",
      "           4       0.80      1.00      0.89        12\n",
      "           5       0.46      0.86      0.60         7\n",
      "\n",
      "    accuracy                           0.92       458\n",
      "   macro avg       0.71      0.90      0.79       458\n",
      "weighted avg       0.94      0.92      0.93       458\n",
      "\n"
     ]
    }
   ],
   "source": [
    "# Evaluate model performance\n",
    "accuracy = accuracy_score(y_test_labels, y_pred_labels)\n",
    "print(\"Model Accuracy with Selected Features and Grid Search:\", accuracy)\n",
    "print(\"Classification Report:\\n\", classification_report(y_test_labels, y_pred_labels))"
   ]
  }
 ],
 "metadata": {
  "kernelspec": {
   "display_name": "Python 3 (ipykernel)",
   "language": "python",
   "name": "python3"
  },
  "language_info": {
   "codemirror_mode": {
    "name": "ipython",
    "version": 3
   },
   "file_extension": ".py",
   "mimetype": "text/x-python",
   "name": "python",
   "nbconvert_exporter": "python",
   "pygments_lexer": "ipython3",
   "version": "3.11.0"
  }
 },
 "nbformat": 4,
 "nbformat_minor": 5
}
