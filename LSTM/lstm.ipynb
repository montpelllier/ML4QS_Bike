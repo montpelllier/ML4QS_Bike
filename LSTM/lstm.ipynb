{
 "cells": [
  {
   "cell_type": "code",
   "id": "46aee271",
   "metadata": {
    "ExecuteTime": {
     "end_time": "2024-06-23T13:11:46.306461Z",
     "start_time": "2024-06-23T13:11:46.291922Z"
    }
   },
   "source": [
    "import pandas as pd\n",
    "import numpy as np\n",
    "\n",
    "from pathlib import Path\n",
    "from model import LSTMModel\n",
    "from sklearn.model_selection import train_test_split\n",
    "from sklearn.metrics import accuracy_score, classification_report\n",
    "from sklearn.metrics import accuracy_score, precision_recall_fscore_support\n",
    "from imblearn.over_sampling import SMOTE\n",
    "from imblearn.under_sampling import RandomUnderSampler\n",
    "from imblearn.pipeline import make_pipeline"
   ],
   "outputs": [],
   "execution_count": 25
  },
  {
   "cell_type": "code",
   "id": "93ab8686",
   "metadata": {
    "ExecuteTime": {
     "end_time": "2024-06-23T13:11:46.322110Z",
     "start_time": "2024-06-23T13:11:46.306461Z"
    }
   },
   "source": [
    "# Define paths and filenames\n",
    "DATA_PATH = Path('../results/')\n",
    "DATASET_FNAME = 'dataset_result_feature.csv'"
   ],
   "outputs": [],
   "execution_count": 26
  },
  {
   "cell_type": "code",
   "id": "43111ee4",
   "metadata": {
    "ExecuteTime": {
     "end_time": "2024-06-23T13:11:46.353803Z",
     "start_time": "2024-06-23T13:11:46.322110Z"
    }
   },
   "source": [
    "# Load the dataset\n",
    "try:\n",
    "    dataset = pd.read_csv(DATA_PATH / DATASET_FNAME, index_col=0)\n",
    "except IOError as e:\n",
    "    print('File not found, try to run previous crowdsignals scripts first!')\n",
    "    raise e\n",
    "dataset = dataset[1:]"
   ],
   "outputs": [],
   "execution_count": 27
  },
  {
   "cell_type": "code",
   "id": "8f3fe8d1",
   "metadata": {
    "ExecuteTime": {
     "end_time": "2024-06-23T13:11:46.372955Z",
     "start_time": "2024-06-23T13:11:46.353803Z"
    }
   },
   "source": [
    "# Separate features and target variables\n",
    "X = dataset.drop(\n",
    "    columns=['labelnormal', 'labelturnright', 'labelturnleft', 'labelbrake', 'labelstop', 'labelaccelerate'])\n",
    "y = dataset[['labelnormal', 'labelturnright', 'labelturnleft', 'labelbrake', 'labelstop', 'labelaccelerate']].copy()"
   ],
   "outputs": [],
   "execution_count": 28
  },
  {
   "cell_type": "code",
   "id": "8ab00ac7",
   "metadata": {
    "ExecuteTime": {
     "end_time": "2024-06-23T13:11:46.390330Z",
     "start_time": "2024-06-23T13:11:46.374656Z"
    }
   },
   "source": [
    "# Ensure the dataset is split in chronological order, assuming data is already sorted by time\n",
    "# Commented out original splitting by index to use train_test_split for randomized split\n",
    "# train_size = int(0.7 * len(dataset))  # Use 70% of the data for training\n",
    "# X_train, X_test = X.iloc[:train_size], X.iloc[train_size:]\n",
    "# y_train, y_test = y['label'].iloc[:train_size], y['label'].iloc[train_size:]\n",
    "# print(len(X_train), len(X_test))\n",
    "X_train, X_test, y_train, y_test = train_test_split(X, y, test_size=0.3, random_state=42)"
   ],
   "outputs": [],
   "execution_count": 29
  },
  {
   "cell_type": "code",
   "id": "9c34ac87",
   "metadata": {
    "ExecuteTime": {
     "end_time": "2024-06-23T13:11:46.453686Z",
     "start_time": "2024-06-23T13:11:46.391289Z"
    }
   },
   "source": [
    "from collections import Counter\n",
    "\n",
    "pipeline = make_pipeline(\n",
    "    SMOTE(sampling_strategy='all', random_state=42, k_neighbors=5),  # 调整 SMOTE 的参数\n",
    "    RandomUnderSampler(sampling_strategy='not minority', random_state=42)  # 调整 RandomUnderSampler 的参数\n",
    ")\n",
    "\n",
    "# 运行pipeline进行重采样\n",
    "X_train, y_train = pipeline.fit_resample(X_train, y_train.values)\n",
    "y_train_labels = np.argmax(y_train, axis=1)\n",
    "print(Counter(y_train_labels))"
   ],
   "outputs": [
    {
     "name": "stdout",
     "output_type": "stream",
     "text": [
      "Counter({0: 1790, 1: 1790, 2: 1790, 3: 1790, 4: 1790, 5: 1790})\n"
     ]
    }
   ],
   "execution_count": 30
  },
  {
   "cell_type": "code",
   "id": "7f58aa52",
   "metadata": {
    "ExecuteTime": {
     "end_time": "2024-06-23T13:11:46.469312Z",
     "start_time": "2024-06-23T13:11:46.453686Z"
    }
   },
   "source": [
    "# Convert DataFrames to numpy arrays\n",
    "X_train = np.array(X_train)\n",
    "X_test = np.array(X_test)\n",
    "\n",
    "# Reshape X_train and X_test for LSTM input\n",
    "X_train = X_train.reshape(X_train.shape[0], 1, X_train.shape[1])\n",
    "X_test = X_test.reshape(X_test.shape[0], 1, X_test.shape[1])"
   ],
   "outputs": [],
   "execution_count": 31
  },
  {
   "cell_type": "code",
   "id": "529a0693",
   "metadata": {
    "ExecuteTime": {
     "end_time": "2024-06-23T13:11:46.533938Z",
     "start_time": "2024-06-23T13:11:46.469312Z"
    }
   },
   "source": [
    "# Define the model\n",
    "model = LSTMModel(X_train, y_train, lr=1e-3)"
   ],
   "outputs": [],
   "execution_count": 32
  },
  {
   "cell_type": "code",
   "id": "31628787",
   "metadata": {
    "ExecuteTime": {
     "end_time": "2024-06-23T13:12:26.265459Z",
     "start_time": "2024-06-23T13:11:46.533938Z"
    }
   },
   "source": [
    "# Train the model\n",
    "model.train(epochs=100, batch_size=64)"
   ],
   "outputs": [
    {
     "name": "stdout",
     "output_type": "stream",
     "text": [
      "Epoch 1/100\n",
      "168/168 [==============================] - 1s 2ms/step - loss: 1.5077 - accuracy: 0.5013\n",
      "Epoch 2/100\n",
      "168/168 [==============================] - 0s 2ms/step - loss: 0.5762 - accuracy: 0.7909\n",
      "Epoch 3/100\n",
      "168/168 [==============================] - 0s 2ms/step - loss: 0.4242 - accuracy: 0.8440\n",
      "Epoch 4/100\n",
      "168/168 [==============================] - 0s 2ms/step - loss: 0.3577 - accuracy: 0.8691\n",
      "Epoch 5/100\n",
      "168/168 [==============================] - 0s 2ms/step - loss: 0.3088 - accuracy: 0.8890\n",
      "Epoch 6/100\n",
      "168/168 [==============================] - 0s 2ms/step - loss: 0.2782 - accuracy: 0.8993\n",
      "Epoch 7/100\n",
      "168/168 [==============================] - 0s 2ms/step - loss: 0.2586 - accuracy: 0.9059\n",
      "Epoch 8/100\n",
      "168/168 [==============================] - 0s 2ms/step - loss: 0.2334 - accuracy: 0.9131\n",
      "Epoch 9/100\n",
      "168/168 [==============================] - 0s 2ms/step - loss: 0.2235 - accuracy: 0.9165\n",
      "Epoch 10/100\n",
      "168/168 [==============================] - 0s 2ms/step - loss: 0.2184 - accuracy: 0.9191\n",
      "Epoch 11/100\n",
      "168/168 [==============================] - 0s 2ms/step - loss: 0.2025 - accuracy: 0.9269\n",
      "Epoch 12/100\n",
      "168/168 [==============================] - 0s 2ms/step - loss: 0.1945 - accuracy: 0.9288\n",
      "Epoch 13/100\n",
      "168/168 [==============================] - 0s 2ms/step - loss: 0.1789 - accuracy: 0.9340\n",
      "Epoch 14/100\n",
      "168/168 [==============================] - 0s 2ms/step - loss: 0.1747 - accuracy: 0.9372\n",
      "Epoch 15/100\n",
      "168/168 [==============================] - 0s 2ms/step - loss: 0.1687 - accuracy: 0.9371\n",
      "Epoch 16/100\n",
      "168/168 [==============================] - 0s 2ms/step - loss: 0.1629 - accuracy: 0.9434\n",
      "Epoch 17/100\n",
      "168/168 [==============================] - 0s 2ms/step - loss: 0.1563 - accuracy: 0.9417\n",
      "Epoch 18/100\n",
      "168/168 [==============================] - 0s 2ms/step - loss: 0.1568 - accuracy: 0.9437\n",
      "Epoch 19/100\n",
      "168/168 [==============================] - 0s 2ms/step - loss: 0.1517 - accuracy: 0.9458\n",
      "Epoch 20/100\n",
      "168/168 [==============================] - 0s 2ms/step - loss: 0.1516 - accuracy: 0.9435\n",
      "Epoch 21/100\n",
      "168/168 [==============================] - 0s 2ms/step - loss: 0.1386 - accuracy: 0.9533\n",
      "Epoch 22/100\n",
      "168/168 [==============================] - 0s 2ms/step - loss: 0.1437 - accuracy: 0.9481\n",
      "Epoch 23/100\n",
      "168/168 [==============================] - 0s 3ms/step - loss: 0.1298 - accuracy: 0.9526\n",
      "Epoch 24/100\n",
      "168/168 [==============================] - 0s 2ms/step - loss: 0.1308 - accuracy: 0.9510\n",
      "Epoch 25/100\n",
      "168/168 [==============================] - 0s 2ms/step - loss: 0.1288 - accuracy: 0.9541\n",
      "Epoch 26/100\n",
      "168/168 [==============================] - 0s 2ms/step - loss: 0.1205 - accuracy: 0.9576\n",
      "Epoch 27/100\n",
      "168/168 [==============================] - 0s 2ms/step - loss: 0.1214 - accuracy: 0.9562\n",
      "Epoch 28/100\n",
      "168/168 [==============================] - 0s 2ms/step - loss: 0.1194 - accuracy: 0.9546\n",
      "Epoch 29/100\n",
      "168/168 [==============================] - 0s 2ms/step - loss: 0.1172 - accuracy: 0.9572\n",
      "Epoch 30/100\n",
      "168/168 [==============================] - 0s 2ms/step - loss: 0.1172 - accuracy: 0.9584\n",
      "Epoch 31/100\n",
      "168/168 [==============================] - 0s 2ms/step - loss: 0.1100 - accuracy: 0.9619\n",
      "Epoch 32/100\n",
      "168/168 [==============================] - 0s 2ms/step - loss: 0.1076 - accuracy: 0.9612\n",
      "Epoch 33/100\n",
      "168/168 [==============================] - 0s 2ms/step - loss: 0.1096 - accuracy: 0.9600\n",
      "Epoch 34/100\n",
      "168/168 [==============================] - 0s 2ms/step - loss: 0.1078 - accuracy: 0.9606\n",
      "Epoch 35/100\n",
      "168/168 [==============================] - 0s 2ms/step - loss: 0.1039 - accuracy: 0.9628\n",
      "Epoch 36/100\n",
      "168/168 [==============================] - 0s 2ms/step - loss: 0.1029 - accuracy: 0.9613\n",
      "Epoch 37/100\n",
      "168/168 [==============================] - 0s 2ms/step - loss: 0.0981 - accuracy: 0.9637\n",
      "Epoch 38/100\n",
      "168/168 [==============================] - 0s 2ms/step - loss: 0.0998 - accuracy: 0.9650\n",
      "Epoch 39/100\n",
      "168/168 [==============================] - 0s 2ms/step - loss: 0.1070 - accuracy: 0.9616\n",
      "Epoch 40/100\n",
      "168/168 [==============================] - 0s 2ms/step - loss: 0.1102 - accuracy: 0.9602\n",
      "Epoch 41/100\n",
      "168/168 [==============================] - 0s 2ms/step - loss: 0.0979 - accuracy: 0.9669\n",
      "Epoch 42/100\n",
      "168/168 [==============================] - 0s 2ms/step - loss: 0.1003 - accuracy: 0.9635\n",
      "Epoch 43/100\n",
      "168/168 [==============================] - 0s 2ms/step - loss: 0.0925 - accuracy: 0.9675\n",
      "Epoch 44/100\n",
      "168/168 [==============================] - 0s 2ms/step - loss: 0.0983 - accuracy: 0.9640\n",
      "Epoch 45/100\n",
      "168/168 [==============================] - 0s 2ms/step - loss: 0.0939 - accuracy: 0.9662\n",
      "Epoch 46/100\n",
      "168/168 [==============================] - 0s 2ms/step - loss: 0.0928 - accuracy: 0.9658\n",
      "Epoch 47/100\n",
      "168/168 [==============================] - 0s 2ms/step - loss: 0.0887 - accuracy: 0.9686\n",
      "Epoch 48/100\n",
      "168/168 [==============================] - 0s 2ms/step - loss: 0.0903 - accuracy: 0.9658\n",
      "Epoch 49/100\n",
      "168/168 [==============================] - 0s 2ms/step - loss: 0.0922 - accuracy: 0.9664\n",
      "Epoch 50/100\n",
      "168/168 [==============================] - 0s 2ms/step - loss: 0.0846 - accuracy: 0.9696\n",
      "Epoch 51/100\n",
      "168/168 [==============================] - 0s 2ms/step - loss: 0.0768 - accuracy: 0.9723\n",
      "Epoch 52/100\n",
      "168/168 [==============================] - 0s 2ms/step - loss: 0.0807 - accuracy: 0.9713\n",
      "Epoch 53/100\n",
      "168/168 [==============================] - 0s 2ms/step - loss: 0.0835 - accuracy: 0.9713\n",
      "Epoch 54/100\n",
      "168/168 [==============================] - 0s 2ms/step - loss: 0.0868 - accuracy: 0.9712\n",
      "Epoch 55/100\n",
      "168/168 [==============================] - 0s 2ms/step - loss: 0.0811 - accuracy: 0.9696\n",
      "Epoch 56/100\n",
      "168/168 [==============================] - 0s 2ms/step - loss: 0.0926 - accuracy: 0.9653\n",
      "Epoch 57/100\n",
      "168/168 [==============================] - 0s 2ms/step - loss: 0.0786 - accuracy: 0.9700\n",
      "Epoch 58/100\n",
      "168/168 [==============================] - 0s 2ms/step - loss: 0.0864 - accuracy: 0.9688\n",
      "Epoch 59/100\n",
      "168/168 [==============================] - 0s 2ms/step - loss: 0.0747 - accuracy: 0.9717\n",
      "Epoch 60/100\n",
      "168/168 [==============================] - 0s 2ms/step - loss: 0.0797 - accuracy: 0.9711\n",
      "Epoch 61/100\n",
      "168/168 [==============================] - 0s 2ms/step - loss: 0.0801 - accuracy: 0.9742\n",
      "Epoch 62/100\n",
      "168/168 [==============================] - 0s 2ms/step - loss: 0.0820 - accuracy: 0.9699\n",
      "Epoch 63/100\n",
      "168/168 [==============================] - 0s 2ms/step - loss: 0.0766 - accuracy: 0.9725\n",
      "Epoch 64/100\n",
      "168/168 [==============================] - 0s 2ms/step - loss: 0.0708 - accuracy: 0.9764\n",
      "Epoch 65/100\n",
      "168/168 [==============================] - 0s 2ms/step - loss: 0.0704 - accuracy: 0.9755\n",
      "Epoch 66/100\n",
      "168/168 [==============================] - 0s 2ms/step - loss: 0.0697 - accuracy: 0.9761\n",
      "Epoch 67/100\n",
      "168/168 [==============================] - 0s 2ms/step - loss: 0.0709 - accuracy: 0.9750\n",
      "Epoch 68/100\n",
      "168/168 [==============================] - 0s 2ms/step - loss: 0.0719 - accuracy: 0.9739\n",
      "Epoch 69/100\n",
      "168/168 [==============================] - 0s 2ms/step - loss: 0.0791 - accuracy: 0.9720\n",
      "Epoch 70/100\n",
      "168/168 [==============================] - 0s 2ms/step - loss: 0.0704 - accuracy: 0.9732\n",
      "Epoch 71/100\n",
      "168/168 [==============================] - 0s 2ms/step - loss: 0.0759 - accuracy: 0.9723\n",
      "Epoch 72/100\n",
      "168/168 [==============================] - 0s 2ms/step - loss: 0.0699 - accuracy: 0.9755\n",
      "Epoch 73/100\n",
      "168/168 [==============================] - 0s 2ms/step - loss: 0.0656 - accuracy: 0.9768\n",
      "Epoch 74/100\n",
      "168/168 [==============================] - 0s 2ms/step - loss: 0.0745 - accuracy: 0.9732\n",
      "Epoch 75/100\n",
      "168/168 [==============================] - 0s 2ms/step - loss: 0.0613 - accuracy: 0.9768\n",
      "Epoch 76/100\n",
      "168/168 [==============================] - 0s 3ms/step - loss: 0.0668 - accuracy: 0.9731\n",
      "Epoch 77/100\n",
      "168/168 [==============================] - 0s 3ms/step - loss: 0.0685 - accuracy: 0.9749\n",
      "Epoch 78/100\n",
      "168/168 [==============================] - 0s 3ms/step - loss: 0.0635 - accuracy: 0.9758\n",
      "Epoch 79/100\n",
      "168/168 [==============================] - 0s 2ms/step - loss: 0.0696 - accuracy: 0.9757\n",
      "Epoch 80/100\n",
      "168/168 [==============================] - 0s 3ms/step - loss: 0.0683 - accuracy: 0.9740\n",
      "Epoch 81/100\n",
      "168/168 [==============================] - 0s 3ms/step - loss: 0.0666 - accuracy: 0.9766\n",
      "Epoch 82/100\n",
      "168/168 [==============================] - 0s 3ms/step - loss: 0.0666 - accuracy: 0.9775\n",
      "Epoch 83/100\n",
      "168/168 [==============================] - 0s 3ms/step - loss: 0.0630 - accuracy: 0.9781\n",
      "Epoch 84/100\n",
      "168/168 [==============================] - 0s 3ms/step - loss: 0.0611 - accuracy: 0.9776\n",
      "Epoch 85/100\n",
      "168/168 [==============================] - 0s 3ms/step - loss: 0.0653 - accuracy: 0.9778\n",
      "Epoch 86/100\n",
      "168/168 [==============================] - 0s 3ms/step - loss: 0.0608 - accuracy: 0.9783\n",
      "Epoch 87/100\n",
      "168/168 [==============================] - 0s 3ms/step - loss: 0.0621 - accuracy: 0.9767\n",
      "Epoch 88/100\n",
      "168/168 [==============================] - 0s 3ms/step - loss: 0.0611 - accuracy: 0.9773\n",
      "Epoch 89/100\n",
      "168/168 [==============================] - 0s 3ms/step - loss: 0.0663 - accuracy: 0.9762\n",
      "Epoch 90/100\n",
      "168/168 [==============================] - 0s 3ms/step - loss: 0.0755 - accuracy: 0.9732\n",
      "Epoch 91/100\n",
      "168/168 [==============================] - 0s 3ms/step - loss: 0.0679 - accuracy: 0.9754\n",
      "Epoch 92/100\n",
      "168/168 [==============================] - 0s 3ms/step - loss: 0.0662 - accuracy: 0.9753\n",
      "Epoch 93/100\n",
      "168/168 [==============================] - 0s 3ms/step - loss: 0.0576 - accuracy: 0.9791\n",
      "Epoch 94/100\n",
      "168/168 [==============================] - 0s 3ms/step - loss: 0.0584 - accuracy: 0.9784\n",
      "Epoch 95/100\n",
      "168/168 [==============================] - 0s 3ms/step - loss: 0.0632 - accuracy: 0.9764\n",
      "Epoch 96/100\n",
      "168/168 [==============================] - 0s 3ms/step - loss: 0.0689 - accuracy: 0.9769\n",
      "Epoch 97/100\n",
      "168/168 [==============================] - 0s 3ms/step - loss: 0.0591 - accuracy: 0.9784\n",
      "Epoch 98/100\n",
      "168/168 [==============================] - 0s 3ms/step - loss: 0.0587 - accuracy: 0.9780\n",
      "Epoch 99/100\n",
      "168/168 [==============================] - 0s 3ms/step - loss: 0.0686 - accuracy: 0.9760\n",
      "Epoch 100/100\n",
      "168/168 [==============================] - 0s 3ms/step - loss: 0.0603 - accuracy: 0.9784\n"
     ]
    }
   ],
   "execution_count": 33
  },
  {
   "cell_type": "code",
   "id": "2e0b4aaf",
   "metadata": {
    "ExecuteTime": {
     "end_time": "2024-06-23T13:12:26.406338Z",
     "start_time": "2024-06-23T13:12:26.265459Z"
    }
   },
   "source": [
    "# Use model to predit\n",
    "y_pred = model.predict(X_test)"
   ],
   "outputs": [
    {
     "name": "stdout",
     "output_type": "stream",
     "text": [
      "29/29 [==============================] - 0s 1ms/step\n"
     ]
    }
   ],
   "execution_count": 34
  },
  {
   "cell_type": "code",
   "id": "9e0f708a",
   "metadata": {
    "ExecuteTime": {
     "end_time": "2024-06-23T13:12:26.421921Z",
     "start_time": "2024-06-23T13:12:26.406338Z"
    }
   },
   "source": [
    "# Convert multi-label to single label\n",
    "y_pred_labels = np.argmax(y_pred, axis=1)\n",
    "y_test_labels = np.argmax(y_test.values, axis=1)"
   ],
   "outputs": [],
   "execution_count": 35
  },
  {
   "cell_type": "code",
   "id": "783a1f7f",
   "metadata": {
    "ExecuteTime": {
     "end_time": "2024-06-23T13:12:26.437591Z",
     "start_time": "2024-06-23T13:12:26.421921Z"
    }
   },
   "source": [
    "# Evaluate model performance\n",
    "accuracy = accuracy_score(y_test_labels, y_pred_labels)\n",
    "print(\"Model Accuracy with Selected Features:\", accuracy)\n",
    "print(\"Classification Report:\\n\", classification_report(y_test_labels, y_pred_labels))"
   ],
   "outputs": [
    {
     "name": "stdout",
     "output_type": "stream",
     "text": [
      "Model Accuracy with Selected Features: 0.8976293103448276\n",
      "Classification Report:\n",
      "               precision    recall  f1-score   support\n",
      "\n",
      "           0       0.96      0.92      0.94       771\n",
      "           1       0.69      0.74      0.71        50\n",
      "           2       0.53      0.93      0.67        43\n",
      "           3       0.57      0.53      0.55        15\n",
      "           4       0.87      0.94      0.90        35\n",
      "           5       0.70      0.50      0.58        14\n",
      "\n",
      "    accuracy                           0.90       928\n",
      "   macro avg       0.72      0.76      0.73       928\n",
      "weighted avg       0.91      0.90      0.90       928\n",
      "\n"
     ]
    }
   ],
   "execution_count": 36
  },
  {
   "metadata": {
    "ExecuteTime": {
     "end_time": "2024-06-23T13:12:26.453275Z",
     "start_time": "2024-06-23T13:12:26.437591Z"
    }
   },
   "cell_type": "code",
   "source": "",
   "id": "2549f57ba5e7bfdf",
   "outputs": [],
   "execution_count": 36
  }
 ],
 "metadata": {
  "kernelspec": {
   "display_name": "Python 3 (ipykernel)",
   "language": "python",
   "name": "python3"
  },
  "language_info": {
   "codemirror_mode": {
    "name": "ipython",
    "version": 3
   },
   "file_extension": ".py",
   "mimetype": "text/x-python",
   "name": "python",
   "nbconvert_exporter": "python",
   "pygments_lexer": "ipython3",
   "version": "3.11.0"
  }
 },
 "nbformat": 4,
 "nbformat_minor": 5
}
